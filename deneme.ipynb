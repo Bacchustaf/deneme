{
 "metadata": {
  "name": "",
  "signature": "sha256:3bb27cfbefc6936d20db5898e7f38997bda3c4ac2ee3934d9fd01c6c0cc9ac9a"
 },
 "nbformat": 3,
 "nbformat_minor": 0,
 "worksheets": [
  {
   "cells": [
    {
     "cell_type": "code",
     "collapsed": false,
     "input": [
      "3+4"
     ],
     "language": "python",
     "metadata": {},
     "outputs": [
      {
       "metadata": {},
       "output_type": "pyout",
       "prompt_number": 2,
       "text": [
        "7"
       ]
      }
     ],
     "prompt_number": 2
    },
    {
     "cell_type": "markdown",
     "metadata": {},
     "source": [
      "# Introduct\u0131on\n",
      "\n",
      "## Subsection\n",
      "\n",
      "blsf sdgsdgdsd\n",
      "\n",
      "$$e=mc^2$$\n",
      "\n",
      "$$\\vec{E} =-\\frac{1}{c}{\\vec{B}}{t}$$\n",
      "\n",
      "![](http://i.stack.imgur.com/gvIBA.jpg)"
     ]
    },
    {
     "cell_type": "code",
     "collapsed": false,
     "input": [
      "from pylab import *\n",
      "\n",
      "t = arange(0.0, 2.0, 0.01)\n",
      "s = sin(2*pi*t)\n",
      "plot(t, s)\n",
      "\n",
      "xlabel('time (s)')\n",
      "ylabel('voltage (mV)')\n",
      "title('About as simple as it gets, folks')\n",
      "grid(True)\n",
      "savefig(\"test.png\")\n",
      "show()"
     ],
     "language": "python",
     "metadata": {},
     "outputs": []
    },
    {
     "cell_type": "code",
     "collapsed": false,
     "input": [],
     "language": "python",
     "metadata": {},
     "outputs": []
    }
   ],
   "metadata": {}
  }
 ]
}